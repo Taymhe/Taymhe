{
 "cells": [
  {
   "cell_type": "code",
   "execution_count": 1,
   "id": "7b0b68d7",
   "metadata": {
    "_cell_guid": "b1076dfc-b9ad-4769-8c92-a6c4dae69d19",
    "_uuid": "8f2839f25d086af736a60e9eeb907d3b93b6e0e5",
    "execution": {
     "iopub.execute_input": "2023-04-30T16:16:21.526819Z",
     "iopub.status.busy": "2023-04-30T16:16:21.526406Z",
     "iopub.status.idle": "2023-04-30T16:16:21.544382Z",
     "shell.execute_reply": "2023-04-30T16:16:21.543463Z"
    },
    "papermill": {
     "duration": 0.032905,
     "end_time": "2023-04-30T16:16:21.546866",
     "exception": false,
     "start_time": "2023-04-30T16:16:21.513961",
     "status": "completed"
    },
    "tags": []
   },
   "outputs": [
    {
     "name": "stdout",
     "output_type": "stream",
     "text": [
      "/kaggle/input/students-performance-in-exams/StudentsPerformance.csv\n"
     ]
    }
   ],
   "source": [
    "# This Python 3 environment comes with many helpful analytics libraries installed\n",
    "# It is defined by the kaggle/python Docker image: https://github.com/kaggle/docker-python\n",
    "# For example, here's several helpful packages to load\n",
    "\n",
    "import numpy as np # linear algebra\n",
    "import pandas as pd # data processing, CSV file I/O (e.g. pd.read_csv)\n",
    "\n",
    "# Input data files are available in the read-only \"../input/\" directory\n",
    "# For example, running this (by clicking run or pressing Shift+Enter) will list all files under the input directory\n",
    "\n",
    "import os\n",
    "for dirname, _, filenames in os.walk('/kaggle/input'):\n",
    "    for filename in filenames:\n",
    "        print(os.path.join(dirname, filename))\n",
    "\n",
    "# You can write up to 20GB to the current directory (/kaggle/working/) that gets preserved as output when you create a version using \"Save & Run All\" \n",
    "# You can also write temporary files to /kaggle/temp/, but they won't be saved outside of the current session"
   ]
  },
  {
   "cell_type": "code",
   "execution_count": 2,
   "id": "acebb351",
   "metadata": {
    "execution": {
     "iopub.execute_input": "2023-04-30T16:16:21.568403Z",
     "iopub.status.busy": "2023-04-30T16:16:21.567614Z",
     "iopub.status.idle": "2023-04-30T16:16:21.572233Z",
     "shell.execute_reply": "2023-04-30T16:16:21.571326Z"
    },
    "papermill": {
     "duration": 0.017796,
     "end_time": "2023-04-30T16:16:21.574482",
     "exception": false,
     "start_time": "2023-04-30T16:16:21.556686",
     "status": "completed"
    },
    "tags": []
   },
   "outputs": [],
   "source": [
    "from matplotlib import pyplot as plt"
   ]
  },
  {
   "cell_type": "code",
   "execution_count": 3,
   "id": "bee41ec7",
   "metadata": {
    "execution": {
     "iopub.execute_input": "2023-04-30T16:16:21.595159Z",
     "iopub.status.busy": "2023-04-30T16:16:21.594749Z",
     "iopub.status.idle": "2023-04-30T16:16:21.613963Z",
     "shell.execute_reply": "2023-04-30T16:16:21.612734Z"
    },
    "papermill": {
     "duration": 0.033147,
     "end_time": "2023-04-30T16:16:21.616957",
     "exception": false,
     "start_time": "2023-04-30T16:16:21.583810",
     "status": "completed"
    },
    "tags": []
   },
   "outputs": [],
   "source": [
    "exam = pd.read_csv(\"/kaggle/input/students-performance-in-exams/StudentsPerformance.csv\")"
   ]
  },
  {
   "cell_type": "code",
   "execution_count": 4,
   "id": "9a358b8d",
   "metadata": {
    "execution": {
     "iopub.execute_input": "2023-04-30T16:16:21.637812Z",
     "iopub.status.busy": "2023-04-30T16:16:21.637417Z",
     "iopub.status.idle": "2023-04-30T16:16:21.668919Z",
     "shell.execute_reply": "2023-04-30T16:16:21.667908Z"
    },
    "papermill": {
     "duration": 0.044836,
     "end_time": "2023-04-30T16:16:21.671245",
     "exception": false,
     "start_time": "2023-04-30T16:16:21.626409",
     "status": "completed"
    },
    "tags": []
   },
   "outputs": [
    {
     "data": {
      "text/html": [
       "<div>\n",
       "<style scoped>\n",
       "    .dataframe tbody tr th:only-of-type {\n",
       "        vertical-align: middle;\n",
       "    }\n",
       "\n",
       "    .dataframe tbody tr th {\n",
       "        vertical-align: top;\n",
       "    }\n",
       "\n",
       "    .dataframe thead th {\n",
       "        text-align: right;\n",
       "    }\n",
       "</style>\n",
       "<table border=\"1\" class=\"dataframe\">\n",
       "  <thead>\n",
       "    <tr style=\"text-align: right;\">\n",
       "      <th></th>\n",
       "      <th>gender</th>\n",
       "      <th>race/ethnicity</th>\n",
       "      <th>parental level of education</th>\n",
       "      <th>lunch</th>\n",
       "      <th>test preparation course</th>\n",
       "      <th>math score</th>\n",
       "      <th>reading score</th>\n",
       "      <th>writing score</th>\n",
       "    </tr>\n",
       "  </thead>\n",
       "  <tbody>\n",
       "    <tr>\n",
       "      <th>0</th>\n",
       "      <td>female</td>\n",
       "      <td>group B</td>\n",
       "      <td>bachelor's degree</td>\n",
       "      <td>standard</td>\n",
       "      <td>none</td>\n",
       "      <td>72</td>\n",
       "      <td>72</td>\n",
       "      <td>74</td>\n",
       "    </tr>\n",
       "    <tr>\n",
       "      <th>1</th>\n",
       "      <td>female</td>\n",
       "      <td>group C</td>\n",
       "      <td>some college</td>\n",
       "      <td>standard</td>\n",
       "      <td>completed</td>\n",
       "      <td>69</td>\n",
       "      <td>90</td>\n",
       "      <td>88</td>\n",
       "    </tr>\n",
       "    <tr>\n",
       "      <th>2</th>\n",
       "      <td>female</td>\n",
       "      <td>group B</td>\n",
       "      <td>master's degree</td>\n",
       "      <td>standard</td>\n",
       "      <td>none</td>\n",
       "      <td>90</td>\n",
       "      <td>95</td>\n",
       "      <td>93</td>\n",
       "    </tr>\n",
       "    <tr>\n",
       "      <th>3</th>\n",
       "      <td>male</td>\n",
       "      <td>group A</td>\n",
       "      <td>associate's degree</td>\n",
       "      <td>free/reduced</td>\n",
       "      <td>none</td>\n",
       "      <td>47</td>\n",
       "      <td>57</td>\n",
       "      <td>44</td>\n",
       "    </tr>\n",
       "    <tr>\n",
       "      <th>4</th>\n",
       "      <td>male</td>\n",
       "      <td>group C</td>\n",
       "      <td>some college</td>\n",
       "      <td>standard</td>\n",
       "      <td>none</td>\n",
       "      <td>76</td>\n",
       "      <td>78</td>\n",
       "      <td>75</td>\n",
       "    </tr>\n",
       "    <tr>\n",
       "      <th>...</th>\n",
       "      <td>...</td>\n",
       "      <td>...</td>\n",
       "      <td>...</td>\n",
       "      <td>...</td>\n",
       "      <td>...</td>\n",
       "      <td>...</td>\n",
       "      <td>...</td>\n",
       "      <td>...</td>\n",
       "    </tr>\n",
       "    <tr>\n",
       "      <th>995</th>\n",
       "      <td>female</td>\n",
       "      <td>group E</td>\n",
       "      <td>master's degree</td>\n",
       "      <td>standard</td>\n",
       "      <td>completed</td>\n",
       "      <td>88</td>\n",
       "      <td>99</td>\n",
       "      <td>95</td>\n",
       "    </tr>\n",
       "    <tr>\n",
       "      <th>996</th>\n",
       "      <td>male</td>\n",
       "      <td>group C</td>\n",
       "      <td>high school</td>\n",
       "      <td>free/reduced</td>\n",
       "      <td>none</td>\n",
       "      <td>62</td>\n",
       "      <td>55</td>\n",
       "      <td>55</td>\n",
       "    </tr>\n",
       "    <tr>\n",
       "      <th>997</th>\n",
       "      <td>female</td>\n",
       "      <td>group C</td>\n",
       "      <td>high school</td>\n",
       "      <td>free/reduced</td>\n",
       "      <td>completed</td>\n",
       "      <td>59</td>\n",
       "      <td>71</td>\n",
       "      <td>65</td>\n",
       "    </tr>\n",
       "    <tr>\n",
       "      <th>998</th>\n",
       "      <td>female</td>\n",
       "      <td>group D</td>\n",
       "      <td>some college</td>\n",
       "      <td>standard</td>\n",
       "      <td>completed</td>\n",
       "      <td>68</td>\n",
       "      <td>78</td>\n",
       "      <td>77</td>\n",
       "    </tr>\n",
       "    <tr>\n",
       "      <th>999</th>\n",
       "      <td>female</td>\n",
       "      <td>group D</td>\n",
       "      <td>some college</td>\n",
       "      <td>free/reduced</td>\n",
       "      <td>none</td>\n",
       "      <td>77</td>\n",
       "      <td>86</td>\n",
       "      <td>86</td>\n",
       "    </tr>\n",
       "  </tbody>\n",
       "</table>\n",
       "<p>1000 rows × 8 columns</p>\n",
       "</div>"
      ],
      "text/plain": [
       "     gender race/ethnicity parental level of education         lunch  \\\n",
       "0    female        group B           bachelor's degree      standard   \n",
       "1    female        group C                some college      standard   \n",
       "2    female        group B             master's degree      standard   \n",
       "3      male        group A          associate's degree  free/reduced   \n",
       "4      male        group C                some college      standard   \n",
       "..      ...            ...                         ...           ...   \n",
       "995  female        group E             master's degree      standard   \n",
       "996    male        group C                 high school  free/reduced   \n",
       "997  female        group C                 high school  free/reduced   \n",
       "998  female        group D                some college      standard   \n",
       "999  female        group D                some college  free/reduced   \n",
       "\n",
       "    test preparation course  math score  reading score  writing score  \n",
       "0                      none          72             72             74  \n",
       "1                 completed          69             90             88  \n",
       "2                      none          90             95             93  \n",
       "3                      none          47             57             44  \n",
       "4                      none          76             78             75  \n",
       "..                      ...         ...            ...            ...  \n",
       "995               completed          88             99             95  \n",
       "996                    none          62             55             55  \n",
       "997               completed          59             71             65  \n",
       "998               completed          68             78             77  \n",
       "999                    none          77             86             86  \n",
       "\n",
       "[1000 rows x 8 columns]"
      ]
     },
     "execution_count": 4,
     "metadata": {},
     "output_type": "execute_result"
    }
   ],
   "source": [
    "exam"
   ]
  },
  {
   "cell_type": "code",
   "execution_count": 5,
   "id": "9224634a",
   "metadata": {
    "execution": {
     "iopub.execute_input": "2023-04-30T16:16:21.693378Z",
     "iopub.status.busy": "2023-04-30T16:16:21.692512Z",
     "iopub.status.idle": "2023-04-30T16:16:21.714864Z",
     "shell.execute_reply": "2023-04-30T16:16:21.713668Z"
    },
    "papermill": {
     "duration": 0.035669,
     "end_time": "2023-04-30T16:16:21.717515",
     "exception": false,
     "start_time": "2023-04-30T16:16:21.681846",
     "status": "completed"
    },
    "tags": []
   },
   "outputs": [
    {
     "data": {
      "text/html": [
       "<div>\n",
       "<style scoped>\n",
       "    .dataframe tbody tr th:only-of-type {\n",
       "        vertical-align: middle;\n",
       "    }\n",
       "\n",
       "    .dataframe tbody tr th {\n",
       "        vertical-align: top;\n",
       "    }\n",
       "\n",
       "    .dataframe thead th {\n",
       "        text-align: right;\n",
       "    }\n",
       "</style>\n",
       "<table border=\"1\" class=\"dataframe\">\n",
       "  <thead>\n",
       "    <tr style=\"text-align: right;\">\n",
       "      <th></th>\n",
       "      <th>gender</th>\n",
       "      <th>race/ethnicity</th>\n",
       "      <th>parental level of education</th>\n",
       "      <th>lunch</th>\n",
       "      <th>test preparation course</th>\n",
       "      <th>math score</th>\n",
       "      <th>reading score</th>\n",
       "      <th>writing score</th>\n",
       "      <th>Total score</th>\n",
       "    </tr>\n",
       "  </thead>\n",
       "  <tbody>\n",
       "    <tr>\n",
       "      <th>0</th>\n",
       "      <td>female</td>\n",
       "      <td>group B</td>\n",
       "      <td>bachelor's degree</td>\n",
       "      <td>standard</td>\n",
       "      <td>none</td>\n",
       "      <td>72</td>\n",
       "      <td>72</td>\n",
       "      <td>74</td>\n",
       "      <td>218</td>\n",
       "    </tr>\n",
       "    <tr>\n",
       "      <th>1</th>\n",
       "      <td>female</td>\n",
       "      <td>group C</td>\n",
       "      <td>some college</td>\n",
       "      <td>standard</td>\n",
       "      <td>completed</td>\n",
       "      <td>69</td>\n",
       "      <td>90</td>\n",
       "      <td>88</td>\n",
       "      <td>247</td>\n",
       "    </tr>\n",
       "    <tr>\n",
       "      <th>2</th>\n",
       "      <td>female</td>\n",
       "      <td>group B</td>\n",
       "      <td>master's degree</td>\n",
       "      <td>standard</td>\n",
       "      <td>none</td>\n",
       "      <td>90</td>\n",
       "      <td>95</td>\n",
       "      <td>93</td>\n",
       "      <td>278</td>\n",
       "    </tr>\n",
       "    <tr>\n",
       "      <th>3</th>\n",
       "      <td>male</td>\n",
       "      <td>group A</td>\n",
       "      <td>associate's degree</td>\n",
       "      <td>free/reduced</td>\n",
       "      <td>none</td>\n",
       "      <td>47</td>\n",
       "      <td>57</td>\n",
       "      <td>44</td>\n",
       "      <td>148</td>\n",
       "    </tr>\n",
       "    <tr>\n",
       "      <th>4</th>\n",
       "      <td>male</td>\n",
       "      <td>group C</td>\n",
       "      <td>some college</td>\n",
       "      <td>standard</td>\n",
       "      <td>none</td>\n",
       "      <td>76</td>\n",
       "      <td>78</td>\n",
       "      <td>75</td>\n",
       "      <td>229</td>\n",
       "    </tr>\n",
       "    <tr>\n",
       "      <th>...</th>\n",
       "      <td>...</td>\n",
       "      <td>...</td>\n",
       "      <td>...</td>\n",
       "      <td>...</td>\n",
       "      <td>...</td>\n",
       "      <td>...</td>\n",
       "      <td>...</td>\n",
       "      <td>...</td>\n",
       "      <td>...</td>\n",
       "    </tr>\n",
       "    <tr>\n",
       "      <th>995</th>\n",
       "      <td>female</td>\n",
       "      <td>group E</td>\n",
       "      <td>master's degree</td>\n",
       "      <td>standard</td>\n",
       "      <td>completed</td>\n",
       "      <td>88</td>\n",
       "      <td>99</td>\n",
       "      <td>95</td>\n",
       "      <td>282</td>\n",
       "    </tr>\n",
       "    <tr>\n",
       "      <th>996</th>\n",
       "      <td>male</td>\n",
       "      <td>group C</td>\n",
       "      <td>high school</td>\n",
       "      <td>free/reduced</td>\n",
       "      <td>none</td>\n",
       "      <td>62</td>\n",
       "      <td>55</td>\n",
       "      <td>55</td>\n",
       "      <td>172</td>\n",
       "    </tr>\n",
       "    <tr>\n",
       "      <th>997</th>\n",
       "      <td>female</td>\n",
       "      <td>group C</td>\n",
       "      <td>high school</td>\n",
       "      <td>free/reduced</td>\n",
       "      <td>completed</td>\n",
       "      <td>59</td>\n",
       "      <td>71</td>\n",
       "      <td>65</td>\n",
       "      <td>195</td>\n",
       "    </tr>\n",
       "    <tr>\n",
       "      <th>998</th>\n",
       "      <td>female</td>\n",
       "      <td>group D</td>\n",
       "      <td>some college</td>\n",
       "      <td>standard</td>\n",
       "      <td>completed</td>\n",
       "      <td>68</td>\n",
       "      <td>78</td>\n",
       "      <td>77</td>\n",
       "      <td>223</td>\n",
       "    </tr>\n",
       "    <tr>\n",
       "      <th>999</th>\n",
       "      <td>female</td>\n",
       "      <td>group D</td>\n",
       "      <td>some college</td>\n",
       "      <td>free/reduced</td>\n",
       "      <td>none</td>\n",
       "      <td>77</td>\n",
       "      <td>86</td>\n",
       "      <td>86</td>\n",
       "      <td>249</td>\n",
       "    </tr>\n",
       "  </tbody>\n",
       "</table>\n",
       "<p>1000 rows × 9 columns</p>\n",
       "</div>"
      ],
      "text/plain": [
       "     gender race/ethnicity parental level of education         lunch  \\\n",
       "0    female        group B           bachelor's degree      standard   \n",
       "1    female        group C                some college      standard   \n",
       "2    female        group B             master's degree      standard   \n",
       "3      male        group A          associate's degree  free/reduced   \n",
       "4      male        group C                some college      standard   \n",
       "..      ...            ...                         ...           ...   \n",
       "995  female        group E             master's degree      standard   \n",
       "996    male        group C                 high school  free/reduced   \n",
       "997  female        group C                 high school  free/reduced   \n",
       "998  female        group D                some college      standard   \n",
       "999  female        group D                some college  free/reduced   \n",
       "\n",
       "    test preparation course  math score  reading score  writing score  \\\n",
       "0                      none          72             72             74   \n",
       "1                 completed          69             90             88   \n",
       "2                      none          90             95             93   \n",
       "3                      none          47             57             44   \n",
       "4                      none          76             78             75   \n",
       "..                      ...         ...            ...            ...   \n",
       "995               completed          88             99             95   \n",
       "996                    none          62             55             55   \n",
       "997               completed          59             71             65   \n",
       "998               completed          68             78             77   \n",
       "999                    none          77             86             86   \n",
       "\n",
       "     Total score  \n",
       "0            218  \n",
       "1            247  \n",
       "2            278  \n",
       "3            148  \n",
       "4            229  \n",
       "..           ...  \n",
       "995          282  \n",
       "996          172  \n",
       "997          195  \n",
       "998          223  \n",
       "999          249  \n",
       "\n",
       "[1000 rows x 9 columns]"
      ]
     },
     "execution_count": 5,
     "metadata": {},
     "output_type": "execute_result"
    }
   ],
   "source": [
    "exam[\"Total score\"] = exam[\"math score\"] + exam[\"reading score\"] + exam[\"writing score\"]\n",
    "exam"
   ]
  },
  {
   "cell_type": "markdown",
   "id": "b2452c1c",
   "metadata": {
    "papermill": {
     "duration": 0.009685,
     "end_time": "2023-04-30T16:16:21.737244",
     "exception": false,
     "start_time": "2023-04-30T16:16:21.727559",
     "status": "completed"
    },
    "tags": []
   },
   "source": [
    " # GROUP BY GENDER"
   ]
  },
  {
   "cell_type": "code",
   "execution_count": 6,
   "id": "11c92e8e",
   "metadata": {
    "execution": {
     "iopub.execute_input": "2023-04-30T16:16:21.758591Z",
     "iopub.status.busy": "2023-04-30T16:16:21.758214Z",
     "iopub.status.idle": "2023-04-30T16:16:21.780268Z",
     "shell.execute_reply": "2023-04-30T16:16:21.779368Z"
    },
    "papermill": {
     "duration": 0.035443,
     "end_time": "2023-04-30T16:16:21.782515",
     "exception": false,
     "start_time": "2023-04-30T16:16:21.747072",
     "status": "completed"
    },
    "tags": []
   },
   "outputs": [
    {
     "data": {
      "text/html": [
       "<div>\n",
       "<style scoped>\n",
       "    .dataframe tbody tr th:only-of-type {\n",
       "        vertical-align: middle;\n",
       "    }\n",
       "\n",
       "    .dataframe tbody tr th {\n",
       "        vertical-align: top;\n",
       "    }\n",
       "\n",
       "    .dataframe thead th {\n",
       "        text-align: right;\n",
       "    }\n",
       "</style>\n",
       "<table border=\"1\" class=\"dataframe\">\n",
       "  <thead>\n",
       "    <tr style=\"text-align: right;\">\n",
       "      <th></th>\n",
       "      <th>math score</th>\n",
       "      <th>reading score</th>\n",
       "      <th>writing score</th>\n",
       "      <th>Total score</th>\n",
       "    </tr>\n",
       "    <tr>\n",
       "      <th>gender</th>\n",
       "      <th></th>\n",
       "      <th></th>\n",
       "      <th></th>\n",
       "      <th></th>\n",
       "    </tr>\n",
       "  </thead>\n",
       "  <tbody>\n",
       "    <tr>\n",
       "      <th>female</th>\n",
       "      <td>63.633205</td>\n",
       "      <td>72.608108</td>\n",
       "      <td>72.467181</td>\n",
       "      <td>208.708494</td>\n",
       "    </tr>\n",
       "    <tr>\n",
       "      <th>male</th>\n",
       "      <td>68.728216</td>\n",
       "      <td>65.473029</td>\n",
       "      <td>63.311203</td>\n",
       "      <td>197.512448</td>\n",
       "    </tr>\n",
       "  </tbody>\n",
       "</table>\n",
       "</div>"
      ],
      "text/plain": [
       "        math score  reading score  writing score  Total score\n",
       "gender                                                       \n",
       "female   63.633205      72.608108      72.467181   208.708494\n",
       "male     68.728216      65.473029      63.311203   197.512448"
      ]
     },
     "execution_count": 6,
     "metadata": {},
     "output_type": "execute_result"
    }
   ],
   "source": [
    "Gender = exam.groupby(by=\"gender\").mean()\n",
    "Gender"
   ]
  },
  {
   "cell_type": "code",
   "execution_count": 7,
   "id": "7a019799",
   "metadata": {
    "execution": {
     "iopub.execute_input": "2023-04-30T16:16:21.805397Z",
     "iopub.status.busy": "2023-04-30T16:16:21.804232Z",
     "iopub.status.idle": "2023-04-30T16:16:21.810815Z",
     "shell.execute_reply": "2023-04-30T16:16:21.809979Z"
    },
    "papermill": {
     "duration": 0.020821,
     "end_time": "2023-04-30T16:16:21.813179",
     "exception": false,
     "start_time": "2023-04-30T16:16:21.792358",
     "status": "completed"
    },
    "tags": []
   },
   "outputs": [],
   "source": [
    "gender_grpd= Gender.index\n",
    "math_grpd = Gender[\"math score\"].values\n",
    "read_grpd = Gender[\"reading score\"].values\n",
    "write_grpd = Gender[\"writing score\"].values\n",
    "total_grpd = Gender[\"Total score\"].values"
   ]
  },
  {
   "cell_type": "code",
   "execution_count": 8,
   "id": "18c3d849",
   "metadata": {
    "execution": {
     "iopub.execute_input": "2023-04-30T16:16:21.835219Z",
     "iopub.status.busy": "2023-04-30T16:16:21.834580Z",
     "iopub.status.idle": "2023-04-30T16:16:22.060237Z",
     "shell.execute_reply": "2023-04-30T16:16:22.058500Z"
    },
    "papermill": {
     "duration": 0.242053,
     "end_time": "2023-04-30T16:16:22.065249",
     "exception": false,
     "start_time": "2023-04-30T16:16:21.823196",
     "status": "completed"
    },
    "tags": []
   },
   "outputs": [
    {
     "data": {
      "image/png": "[encoded data removed]",
      "text/plain": [
       "<Figure size 640x480 with 1 Axes>"
      ]
     },
     "metadata": {},
     "output_type": "display_data"
    }
   ],
   "source": [
    "plt.pie(math_grpd,labels=gender_grpd,explode=[0.02, 0])\n",
    "\n",
    "plt.title(label= \"maths percentage of male to female\")\n",
    "plt.legend()\n",
    "plt.show()"
   ]
  },
  {
   "cell_type": "markdown",
   "id": "4f9e48b0",
   "metadata": {
    "papermill": {
     "duration": 0.009878,
     "end_time": "2023-04-30T16:16:22.088626",
     "exception": false,
     "start_time": "2023-04-30T16:16:22.078748",
     "status": "completed"
    },
    "tags": []
   },
   "source": [
    "**Plotting the Gender categories **"
   ]
  },
  {
   "cell_type": "code",
   "execution_count": 9,
   "id": "70ecb9ef",
   "metadata": {
    "execution": {
     "iopub.execute_input": "2023-04-30T16:16:22.111639Z",
     "iopub.status.busy": "2023-04-30T16:16:22.111222Z",
     "iopub.status.idle": "2023-04-30T16:16:22.768182Z",
     "shell.execute_reply": "2023-04-30T16:16:22.767127Z"
    },
    "papermill": {
     "duration": 0.671462,
     "end_time": "2023-04-30T16:16:22.770786",
     "exception": false,
     "start_time": "2023-04-30T16:16:22.099324",
     "status": "completed"
    },
    "tags": []
   },
   "outputs": [
    {
     "data": {
      "image/png": "[encoded data removed]",
      "text/plain": [
       "<Figure size 960x1200 with 4 Axes>"
      ]
     },
     "metadata": {},
     "output_type": "display_data"
    }
   ],
   "source": [
    "#MATHS PLOT\n",
    "fig,ax1=plt.subplots(2,2,figsize=(12, 15), dpi=80)\n",
    "ax1[0,0].bar(gender_grpd,math_grpd)\n",
    "ax1[0,0].set_xlabel(\"GENDER\")\n",
    "ax1[0,0].set_ylabel(\"MATHS SCORE\")\n",
    "ax1[0,0].set_title(\"AVERAGE GENDER MATHS SCORE\")\n",
    "\n",
    "#READING PLOT\n",
    "ax1[0,1].bar(gender_grpd,read_grpd,color=\"c\")\n",
    "ax1[0,1].set_xlabel(\"GENDER\")\n",
    "ax1[0,1].set_ylabel(\"READING SCORES\")\n",
    "ax1[0,1].set_title(\"AVERAGE GENDER READING SCORES\")\n",
    "\n",
    "#WRITING PLOT\n",
    "ax1[1,0].bar(gender_grpd,write_grpd,color=\"#A020F0\")\n",
    "ax1[1,0].set_xlabel(\"GENDER\")\n",
    "ax1[1,0].set_ylabel(\"WRITING SCORES\")\n",
    "ax1[1,0].set_title(\"AVERAGE GENDER WRITING SCORES\")\n",
    "\n",
    "#TOTAL PLOT\n",
    "ax1[1,1].bar(gender_grpd,total_grpd,color=\"#00FF00\")\n",
    "ax1[1,1].set_xlabel(\"GENDER\")\n",
    "ax1[1,1].set_ylabel(\"TOTAL SCORES\")\n",
    "ax1[1,1].set_title(\"AVERAGE GENDER TOTAL SCORES\")\n",
    "\n",
    "\n",
    "fig.tight_layout() \n",
    "fig.show()"
   ]
  },
  {
   "cell_type": "markdown",
   "id": "0b515b93",
   "metadata": {
    "papermill": {
     "duration": 0.010558,
     "end_time": "2023-04-30T16:16:22.792648",
     "exception": false,
     "start_time": "2023-04-30T16:16:22.782090",
     "status": "completed"
    },
    "tags": []
   },
   "source": [
    "# GROUP BY RACE\n"
   ]
  },
  {
   "cell_type": "code",
   "execution_count": 10,
   "id": "89edc450",
   "metadata": {
    "execution": {
     "iopub.execute_input": "2023-04-30T16:16:22.817142Z",
     "iopub.status.busy": "2023-04-30T16:16:22.816294Z",
     "iopub.status.idle": "2023-04-30T16:16:22.831243Z",
     "shell.execute_reply": "2023-04-30T16:16:22.830106Z"
    },
    "papermill": {
     "duration": 0.030054,
     "end_time": "2023-04-30T16:16:22.833729",
     "exception": false,
     "start_time": "2023-04-30T16:16:22.803675",
     "status": "completed"
    },
    "tags": []
   },
   "outputs": [
    {
     "data": {
      "text/html": [
       "<div>\n",
       "<style scoped>\n",
       "    .dataframe tbody tr th:only-of-type {\n",
       "        vertical-align: middle;\n",
       "    }\n",
       "\n",
       "    .dataframe tbody tr th {\n",
       "        vertical-align: top;\n",
       "    }\n",
       "\n",
       "    .dataframe thead th {\n",
       "        text-align: right;\n",
       "    }\n",
       "</style>\n",
       "<table border=\"1\" class=\"dataframe\">\n",
       "  <thead>\n",
       "    <tr style=\"text-align: right;\">\n",
       "      <th></th>\n",
       "      <th>math score</th>\n",
       "      <th>reading score</th>\n",
       "      <th>writing score</th>\n",
       "      <th>Total score</th>\n",
       "    </tr>\n",
       "    <tr>\n",
       "      <th>race/ethnicity</th>\n",
       "      <th></th>\n",
       "      <th></th>\n",
       "      <th></th>\n",
       "      <th></th>\n",
       "    </tr>\n",
       "  </thead>\n",
       "  <tbody>\n",
       "    <tr>\n",
       "      <th>group A</th>\n",
       "      <td>61.629213</td>\n",
       "      <td>64.674157</td>\n",
       "      <td>62.674157</td>\n",
       "      <td>188.977528</td>\n",
       "    </tr>\n",
       "    <tr>\n",
       "      <th>group B</th>\n",
       "      <td>63.452632</td>\n",
       "      <td>67.352632</td>\n",
       "      <td>65.600000</td>\n",
       "      <td>196.405263</td>\n",
       "    </tr>\n",
       "    <tr>\n",
       "      <th>group C</th>\n",
       "      <td>64.463950</td>\n",
       "      <td>69.103448</td>\n",
       "      <td>67.827586</td>\n",
       "      <td>201.394984</td>\n",
       "    </tr>\n",
       "    <tr>\n",
       "      <th>group D</th>\n",
       "      <td>67.362595</td>\n",
       "      <td>70.030534</td>\n",
       "      <td>70.145038</td>\n",
       "      <td>207.538168</td>\n",
       "    </tr>\n",
       "    <tr>\n",
       "      <th>group E</th>\n",
       "      <td>73.821429</td>\n",
       "      <td>73.028571</td>\n",
       "      <td>71.407143</td>\n",
       "      <td>218.257143</td>\n",
       "    </tr>\n",
       "  </tbody>\n",
       "</table>\n",
       "</div>"
      ],
      "text/plain": [
       "                math score  reading score  writing score  Total score\n",
       "race/ethnicity                                                       \n",
       "group A          61.629213      64.674157      62.674157   188.977528\n",
       "group B          63.452632      67.352632      65.600000   196.405263\n",
       "group C          64.463950      69.103448      67.827586   201.394984\n",
       "group D          67.362595      70.030534      70.145038   207.538168\n",
       "group E          73.821429      73.028571      71.407143   218.257143"
      ]
     },
     "execution_count": 10,
     "metadata": {},
     "output_type": "execute_result"
    }
   ],
   "source": [
    "race = exam.groupby(by=\"race/ethnicity\").mean()\n",
    "race\n"
   ]
  },
  {
   "cell_type": "code",
   "execution_count": 11,
   "id": "6ebd9e28",
   "metadata": {
    "execution": {
     "iopub.execute_input": "2023-04-30T16:16:22.859359Z",
     "iopub.status.busy": "2023-04-30T16:16:22.858255Z",
     "iopub.status.idle": "2023-04-30T16:16:22.864787Z",
     "shell.execute_reply": "2023-04-30T16:16:22.863966Z"
    },
    "papermill": {
     "duration": 0.02171,
     "end_time": "2023-04-30T16:16:22.867118",
     "exception": false,
     "start_time": "2023-04-30T16:16:22.845408",
     "status": "completed"
    },
    "tags": []
   },
   "outputs": [],
   "source": [
    "Race= race.index\n",
    "math_grpd_race = race[\"math score\"]\n",
    "read_grpd_race = race[\"reading score\"].values\n",
    "write_grpd_race = race[\"writing score\"].values\n",
    "total_grpd_race = race[\"Total score\"].values\n"
   ]
  },
  {
   "cell_type": "markdown",
   "id": "01e8627d",
   "metadata": {
    "papermill": {
     "duration": 0.01089,
     "end_time": "2023-04-30T16:16:22.889123",
     "exception": false,
     "start_time": "2023-04-30T16:16:22.878233",
     "status": "completed"
    },
    "tags": []
   },
   "source": [
    "**PLOTTING THE RACE CATEGORIES**"
   ]
  },
  {
   "cell_type": "code",
   "execution_count": 12,
   "id": "a2d9f0be",
   "metadata": {
    "execution": {
     "iopub.execute_input": "2023-04-30T16:16:22.914535Z",
     "iopub.status.busy": "2023-04-30T16:16:22.913758Z",
     "iopub.status.idle": "2023-04-30T16:16:23.716429Z",
     "shell.execute_reply": "2023-04-30T16:16:23.715192Z"
    },
    "papermill": {
     "duration": 0.817978,
     "end_time": "2023-04-30T16:16:23.719102",
     "exception": false,
     "start_time": "2023-04-30T16:16:22.901124",
     "status": "completed"
    },
    "tags": []
   },
   "outputs": [
    {
     "data": {
      "image/png": "[encoded data removed]",
      "text/plain": [
       "<Figure size 960x1200 with 4 Axes>"
      ]
     },
     "metadata": {},
     "output_type": "display_data"
    }
   ],
   "source": [
    "#GroupA PLOT\n",
    "fig2,ax2=plt.subplots(2,2,figsize=(12, 15), dpi=80)\n",
    "ax2[0,0].bar(Race,math_grpd_race)\n",
    "ax2[0,0].set_xlabel(\"GROUPS\")\n",
    "ax2[0,0].set_ylabel(\"MATHS SCORE\")\n",
    "ax2[0,0].set_title(\"GROUPS MATHS SCORE\")\n",
    "ax2[0,0].tick_params(axis=\"x\",rotation =90)\n",
    "\n",
    "\n",
    "#GroupB PLOT\n",
    "ax2[0,1].bar(Race,read_grpd_race,color=\"c\")\n",
    "ax2[0,1].set_xlabel(\"GROUPS\")\n",
    "ax2[0,1].set_ylabel(\"READ SCORE\")\n",
    "ax2[0,1].set_title(\"GROUPS READING SCORE\")\n",
    "ax2[0,1].tick_params(axis=\"x\",rotation =90)\n",
    "\n",
    "#GroupC PLOT\n",
    "ax2[1,0].bar(Race,write_grpd_race,color=\"#A020F0\")\n",
    "ax2[1,0].set_xlabel(\"GROUPS\")\n",
    "ax2[1,0].set_ylabel(\"WRITE SCORE\")\n",
    "ax2[1,0].set_title(\"GROUPS WRITING SCORE\")\n",
    "ax2[1,0].tick_params(axis=\"x\",rotation =90)\n",
    "\n",
    "#GroupD PLOT\n",
    "ax2[1,1].bar(Race,total_grpd_race,color=\"#00FF00\")\n",
    "ax2[1,1].set_xlabel(\"GROUPS\")\n",
    "ax2[1,1].set_ylabel(\"TOTAL SCORE\")\n",
    "ax2[1,1].set_title(\"GROUPS TOTAL SCORE\")\n",
    "ax2[1,1].tick_params(axis=\"x\",rotation =90)\n",
    "\n",
    "\n",
    "\n",
    "\n",
    "\n",
    "fig2.tight_layout() \n",
    "fig2.show()\n"
   ]
  },
  {
   "cell_type": "markdown",
   "id": "d5c211ce",
   "metadata": {
    "papermill": {
     "duration": 0.012119,
     "end_time": "2023-04-30T16:16:23.743305",
     "exception": false,
     "start_time": "2023-04-30T16:16:23.731186",
     "status": "completed"
    },
    "tags": []
   },
   "source": [
    "# **GROUPING BY PARENTAL LEVEL OF EDUCATION(Ple)**"
   ]
  },
  {
   "cell_type": "code",
   "execution_count": 13,
   "id": "f2e22e2e",
   "metadata": {
    "execution": {
     "iopub.execute_input": "2023-04-30T16:16:23.770099Z",
     "iopub.status.busy": "2023-04-30T16:16:23.769069Z",
     "iopub.status.idle": "2023-04-30T16:16:23.785433Z",
     "shell.execute_reply": "2023-04-30T16:16:23.784147Z"
    },
    "papermill": {
     "duration": 0.032524,
     "end_time": "2023-04-30T16:16:23.787981",
     "exception": false,
     "start_time": "2023-04-30T16:16:23.755457",
     "status": "completed"
    },
    "tags": []
   },
   "outputs": [
    {
     "data": {
      "text/html": [
       "<div>\n",
       "<style scoped>\n",
       "    .dataframe tbody tr th:only-of-type {\n",
       "        vertical-align: middle;\n",
       "    }\n",
       "\n",
       "    .dataframe tbody tr th {\n",
       "        vertical-align: top;\n",
       "    }\n",
       "\n",
       "    .dataframe thead th {\n",
       "        text-align: right;\n",
       "    }\n",
       "</style>\n",
       "<table border=\"1\" class=\"dataframe\">\n",
       "  <thead>\n",
       "    <tr style=\"text-align: right;\">\n",
       "      <th></th>\n",
       "      <th>math score</th>\n",
       "      <th>reading score</th>\n",
       "      <th>writing score</th>\n",
       "      <th>Total score</th>\n",
       "    </tr>\n",
       "    <tr>\n",
       "      <th>parental level of education</th>\n",
       "      <th></th>\n",
       "      <th></th>\n",
       "      <th></th>\n",
       "      <th></th>\n",
       "    </tr>\n",
       "  </thead>\n",
       "  <tbody>\n",
       "    <tr>\n",
       "      <th>associate's degree</th>\n",
       "      <td>67.882883</td>\n",
       "      <td>70.927928</td>\n",
       "      <td>69.896396</td>\n",
       "      <td>208.707207</td>\n",
       "    </tr>\n",
       "    <tr>\n",
       "      <th>bachelor's degree</th>\n",
       "      <td>69.389831</td>\n",
       "      <td>73.000000</td>\n",
       "      <td>73.381356</td>\n",
       "      <td>215.771186</td>\n",
       "    </tr>\n",
       "    <tr>\n",
       "      <th>high school</th>\n",
       "      <td>62.137755</td>\n",
       "      <td>64.704082</td>\n",
       "      <td>62.448980</td>\n",
       "      <td>189.290816</td>\n",
       "    </tr>\n",
       "    <tr>\n",
       "      <th>master's degree</th>\n",
       "      <td>69.745763</td>\n",
       "      <td>75.372881</td>\n",
       "      <td>75.677966</td>\n",
       "      <td>220.796610</td>\n",
       "    </tr>\n",
       "    <tr>\n",
       "      <th>some college</th>\n",
       "      <td>67.128319</td>\n",
       "      <td>69.460177</td>\n",
       "      <td>68.840708</td>\n",
       "      <td>205.429204</td>\n",
       "    </tr>\n",
       "    <tr>\n",
       "      <th>some high school</th>\n",
       "      <td>63.497207</td>\n",
       "      <td>66.938547</td>\n",
       "      <td>64.888268</td>\n",
       "      <td>195.324022</td>\n",
       "    </tr>\n",
       "  </tbody>\n",
       "</table>\n",
       "</div>"
      ],
      "text/plain": [
       "                             math score  reading score  writing score  \\\n",
       "parental level of education                                             \n",
       "associate's degree            67.882883      70.927928      69.896396   \n",
       "bachelor's degree             69.389831      73.000000      73.381356   \n",
       "high school                   62.137755      64.704082      62.448980   \n",
       "master's degree               69.745763      75.372881      75.677966   \n",
       "some college                  67.128319      69.460177      68.840708   \n",
       "some high school              63.497207      66.938547      64.888268   \n",
       "\n",
       "                             Total score  \n",
       "parental level of education               \n",
       "associate's degree            208.707207  \n",
       "bachelor's degree             215.771186  \n",
       "high school                   189.290816  \n",
       "master's degree               220.796610  \n",
       "some college                  205.429204  \n",
       "some high school              195.324022  "
      ]
     },
     "execution_count": 13,
     "metadata": {},
     "output_type": "execute_result"
    }
   ],
   "source": [
    "Ple = exam.groupby(by=\"parental level of education\").mean()\n",
    "Ple\n"
   ]
  },
  {
   "cell_type": "code",
   "execution_count": 14,
   "id": "1e792ea8",
   "metadata": {
    "execution": {
     "iopub.execute_input": "2023-04-30T16:16:23.815014Z",
     "iopub.status.busy": "2023-04-30T16:16:23.814596Z",
     "iopub.status.idle": "2023-04-30T16:16:23.820537Z",
     "shell.execute_reply": "2023-04-30T16:16:23.819665Z"
    },
    "papermill": {
     "duration": 0.022049,
     "end_time": "2023-04-30T16:16:23.822658",
     "exception": false,
     "start_time": "2023-04-30T16:16:23.800609",
     "status": "completed"
    },
    "tags": []
   },
   "outputs": [],
   "source": [
    "PLE = Ple.index\n",
    "math_grpd_ple = Ple[\"math score\"]\n",
    "read_grpd_ple = Ple[\"reading score\"].values\n",
    "write_grpd_ple = Ple[\"writing score\"].values\n",
    "total_grpd_ple = Ple[\"Total score\"].values\n"
   ]
  },
  {
   "cell_type": "code",
   "execution_count": 15,
   "id": "fcda88a9",
   "metadata": {
    "execution": {
     "iopub.execute_input": "2023-04-30T16:16:23.850074Z",
     "iopub.status.busy": "2023-04-30T16:16:23.849325Z",
     "iopub.status.idle": "2023-04-30T16:16:23.855177Z",
     "shell.execute_reply": "2023-04-30T16:16:23.854171Z"
    },
    "papermill": {
     "duration": 0.022025,
     "end_time": "2023-04-30T16:16:23.857232",
     "exception": false,
     "start_time": "2023-04-30T16:16:23.835207",
     "status": "completed"
    },
    "tags": []
   },
   "outputs": [
    {
     "data": {
      "text/plain": [
       "pandas.core.indexes.base.Index"
      ]
     },
     "execution_count": 15,
     "metadata": {},
     "output_type": "execute_result"
    }
   ],
   "source": [
    "type(PLE)"
   ]
  },
  {
   "cell_type": "markdown",
   "id": "447b2430",
   "metadata": {
    "papermill": {
     "duration": 0.012238,
     "end_time": "2023-04-30T16:16:23.882007",
     "exception": false,
     "start_time": "2023-04-30T16:16:23.869769",
     "status": "completed"
    },
    "tags": []
   },
   "source": [
    "**PLOTTING THE PLE CATEGORIES**"
   ]
  },
  {
   "cell_type": "code",
   "execution_count": 16,
   "id": "1ac25be6",
   "metadata": {
    "execution": {
     "iopub.execute_input": "2023-04-30T16:16:23.908976Z",
     "iopub.status.busy": "2023-04-30T16:16:23.908308Z",
     "iopub.status.idle": "2023-04-30T16:16:24.667440Z",
     "shell.execute_reply": "2023-04-30T16:16:24.666225Z"
    },
    "papermill": {
     "duration": 0.775837,
     "end_time": "2023-04-30T16:16:24.670026",
     "exception": false,
     "start_time": "2023-04-30T16:16:23.894189",
     "status": "completed"
    },
    "tags": []
   },
   "outputs": [
    {
     "data": {
      "image/png": "[encoded data removed]",
      "text/plain": [
       "<Figure size 960x1200 with 4 Axes>"
      ]
     },
     "metadata": {},
     "output_type": "display_data"
    }
   ],
   "source": [
    "#PLE AND MATHS SCORES\n",
    "fig3,ax3=plt.subplots(2,2,figsize=(12, 15), dpi=80)\n",
    "ax3[0,0].bar(PLE,math_grpd_ple)\n",
    "ax3[0,0].tick_params(axis=\"x\",rotation =90)\n",
    "ax3[0,0].set_ylabel(\"MATHS SCORE\")\n",
    "ax3[0,0].set_xlabel(\"PLE\")\n",
    "ax3[0,0].set_title(\"PLE AND MATHS SCORES\")\n",
    "\n",
    "ax3[0,1].bar(PLE,read_grpd_ple,color=\"c\")\n",
    "ax3[0,1].tick_params(axis=\"x\",rotation =90)\n",
    "ax3[0,1].set_ylabel(\"READING SCORE\")\n",
    "ax3[0,1].set_xlabel(\"READING\")\n",
    "ax3[0,1].set_title(\"PLE AND READING SCORES\")\n",
    "\n",
    "ax3[1,0].bar(PLE,write_grpd_ple,color=\"#A020F0\")\n",
    "ax3[1,0].tick_params(axis=\"x\",rotation =90)\n",
    "ax3[1,0].set_ylabel(\"WRITING SCORE\")\n",
    "ax3[1,0].set_xlabel(\"WRITING\")\n",
    "ax3[1,0].set_title(\"PLE AND WRITING SCORES\")\n",
    "\n",
    "ax3[1,1].bar(PLE,total_grpd_ple,color=\"#00FF00\")\n",
    "ax3[1,1].tick_params(axis=\"x\",rotation =90)\n",
    "ax3[1,1].set_ylabel(\"TOTAL SCORE\")\n",
    "ax3[1,1].set_xlabel(\"TOTAL\")\n",
    "ax3[1,1].set_title(\"PLE AND TOTAL SCORES\")\n",
    "\n",
    "\n",
    "\n",
    "\n",
    "\n",
    "\n",
    "fig3.tight_layout() \n",
    "fig3.show()\n"
   ]
  },
  {
   "cell_type": "markdown",
   "id": "febd8a1f",
   "metadata": {
    "papermill": {
     "duration": 0.013589,
     "end_time": "2023-04-30T16:16:24.697578",
     "exception": false,
     "start_time": "2023-04-30T16:16:24.683989",
     "status": "completed"
    },
    "tags": []
   },
   "source": [
    "# LUNCH RELATIONSHIP WITH PERFORMANCE"
   ]
  },
  {
   "cell_type": "code",
   "execution_count": 17,
   "id": "fc4c8035",
   "metadata": {
    "execution": {
     "iopub.execute_input": "2023-04-30T16:16:24.727126Z",
     "iopub.status.busy": "2023-04-30T16:16:24.726364Z",
     "iopub.status.idle": "2023-04-30T16:16:24.741378Z",
     "shell.execute_reply": "2023-04-30T16:16:24.740242Z"
    },
    "papermill": {
     "duration": 0.032763,
     "end_time": "2023-04-30T16:16:24.744025",
     "exception": false,
     "start_time": "2023-04-30T16:16:24.711262",
     "status": "completed"
    },
    "tags": []
   },
   "outputs": [
    {
     "data": {
      "text/html": [
       "<div>\n",
       "<style scoped>\n",
       "    .dataframe tbody tr th:only-of-type {\n",
       "        vertical-align: middle;\n",
       "    }\n",
       "\n",
       "    .dataframe tbody tr th {\n",
       "        vertical-align: top;\n",
       "    }\n",
       "\n",
       "    .dataframe thead th {\n",
       "        text-align: right;\n",
       "    }\n",
       "</style>\n",
       "<table border=\"1\" class=\"dataframe\">\n",
       "  <thead>\n",
       "    <tr style=\"text-align: right;\">\n",
       "      <th></th>\n",
       "      <th>math score</th>\n",
       "      <th>reading score</th>\n",
       "      <th>writing score</th>\n",
       "      <th>Total score</th>\n",
       "    </tr>\n",
       "    <tr>\n",
       "      <th>lunch</th>\n",
       "      <th></th>\n",
       "      <th></th>\n",
       "      <th></th>\n",
       "      <th></th>\n",
       "    </tr>\n",
       "  </thead>\n",
       "  <tbody>\n",
       "    <tr>\n",
       "      <th>free/reduced</th>\n",
       "      <td>58.921127</td>\n",
       "      <td>64.653521</td>\n",
       "      <td>63.022535</td>\n",
       "      <td>186.597183</td>\n",
       "    </tr>\n",
       "    <tr>\n",
       "      <th>standard</th>\n",
       "      <td>70.034109</td>\n",
       "      <td>71.654264</td>\n",
       "      <td>70.823256</td>\n",
       "      <td>212.511628</td>\n",
       "    </tr>\n",
       "  </tbody>\n",
       "</table>\n",
       "</div>"
      ],
      "text/plain": [
       "              math score  reading score  writing score  Total score\n",
       "lunch                                                              \n",
       "free/reduced   58.921127      64.653521      63.022535   186.597183\n",
       "standard       70.034109      71.654264      70.823256   212.511628"
      ]
     },
     "execution_count": 17,
     "metadata": {},
     "output_type": "execute_result"
    }
   ],
   "source": [
    "lunch = exam.groupby(exam[\"lunch\"]).mean()\n",
    "lunch"
   ]
  },
  {
   "cell_type": "code",
   "execution_count": 18,
   "id": "3128a555",
   "metadata": {
    "execution": {
     "iopub.execute_input": "2023-04-30T16:16:24.773428Z",
     "iopub.status.busy": "2023-04-30T16:16:24.773042Z",
     "iopub.status.idle": "2023-04-30T16:16:24.779192Z",
     "shell.execute_reply": "2023-04-30T16:16:24.777982Z"
    },
    "papermill": {
     "duration": 0.023851,
     "end_time": "2023-04-30T16:16:24.781583",
     "exception": false,
     "start_time": "2023-04-30T16:16:24.757732",
     "status": "completed"
    },
    "tags": []
   },
   "outputs": [],
   "source": [
    "LUNCH= lunch.index\n",
    "math_grpd_lunch = lunch[\"math score\"].values\n",
    "read_grpd_lunch = lunch[\"reading score\"].values\n",
    "write_grpd_lunch = lunch[\"writing score\"].values\n",
    "total_grpd_lunch = lunch[\"Total score\"].values\n",
    "\n",
    "myexplode = [0.05,0]\n"
   ]
  },
  {
   "cell_type": "code",
   "execution_count": 19,
   "id": "46d42307",
   "metadata": {
    "execution": {
     "iopub.execute_input": "2023-04-30T16:16:24.811093Z",
     "iopub.status.busy": "2023-04-30T16:16:24.810654Z",
     "iopub.status.idle": "2023-04-30T16:16:25.445217Z",
     "shell.execute_reply": "2023-04-30T16:16:25.444359Z"
    },
    "papermill": {
     "duration": 0.652106,
     "end_time": "2023-04-30T16:16:25.447422",
     "exception": false,
     "start_time": "2023-04-30T16:16:24.795316",
     "status": "completed"
    },
    "tags": []
   },
   "outputs": [
    {
     "data": {
      "image/png": "[encoded data removed]",
      "text/plain": [
       "<Figure size 960x1200 with 4 Axes>"
      ]
     },
     "metadata": {},
     "output_type": "display_data"
    }
   ],
   "source": [
    "#LUNCH AND MATHS SCORES\n",
    "fig4,ax4=plt.subplots(2,2,figsize=(12, 15), dpi=80)\n",
    "ax4[0,0].bar(LUNCH,math_grpd_lunch)\n",
    "ax4[0,0].tick_params(axis=\"x\",rotation =90)\n",
    "ax4[0,0].set_ylabel(\"MATHS SCORE\")\n",
    "ax4[0,0].set_xlabel(\"LUNCH\")\n",
    "ax4[0,0].set_title(\"LUNCH AND MATHS SCORES\")\n",
    "\n",
    "#LUNCH AND READING SCORES\n",
    "ax4[0,1].bar(LUNCH,read_grpd_lunch,color=\"c\")\n",
    "ax4[0,1].tick_params(axis=\"x\",rotation =90)\n",
    "ax4[0,1].set_ylabel(\"READING SCORE\")\n",
    "ax4[0,1].set_xlabel(\"LUNCH\")\n",
    "ax4[0,1].set_title(\"LUNCH AND READING SCORES\")\n",
    "\n",
    "#LUNCH AND WRITING SCORES\n",
    "ax4[1,0].bar(LUNCH,write_grpd_lunch,color=\"#A020F0\")\n",
    "ax4[1,0].tick_params(axis=\"x\",rotation =90)\n",
    "ax4[1,0].set_ylabel(\"WRITING SCORE\")\n",
    "ax4[1,0].set_xlabel(\"LUNCH\")\n",
    "ax4[1,0].set_title(\"LUNCH AND WRITING SCORES\")\n",
    "\n",
    "\n",
    "ax4[1,1].bar(LUNCH,total_grpd_lunch,color=\"#00FF00\")\n",
    "ax4[1,1].tick_params(axis=\"x\",rotation =90)\n",
    "ax4[1,1].set_ylabel(\"TOTAL SCORE\")\n",
    "ax4[1,1].set_xlabel(\"TOTAL\")\n",
    "ax4[1,1].set_title(\"LUNCH AND TOTAL SCORES\")\n",
    "\n",
    "\n",
    "\n",
    "\n",
    "fig4.tight_layout() \n",
    "fig4.show()"
   ]
  },
  {
   "cell_type": "markdown",
   "id": "ac97f584",
   "metadata": {
    "papermill": {
     "duration": 0.0151,
     "end_time": "2023-04-30T16:16:25.477356",
     "exception": false,
     "start_time": "2023-04-30T16:16:25.462256",
     "status": "completed"
    },
    "tags": []
   },
   "source": [
    "How effective is the test preparation course?"
   ]
  },
  {
   "cell_type": "markdown",
   "id": "bb4f7f22",
   "metadata": {
    "papermill": {
     "duration": 0.014301,
     "end_time": "2023-04-30T16:16:25.506033",
     "exception": false,
     "start_time": "2023-04-30T16:16:25.491732",
     "status": "completed"
    },
    "tags": []
   },
   "source": [
    "**Test preparation course and its effectiveness**(TPC)"
   ]
  },
  {
   "cell_type": "code",
   "execution_count": 20,
   "id": "944e9010",
   "metadata": {
    "execution": {
     "iopub.execute_input": "2023-04-30T16:16:25.538271Z",
     "iopub.status.busy": "2023-04-30T16:16:25.537493Z",
     "iopub.status.idle": "2023-04-30T16:16:25.545793Z",
     "shell.execute_reply": "2023-04-30T16:16:25.544925Z"
    },
    "papermill": {
     "duration": 0.02747,
     "end_time": "2023-04-30T16:16:25.548188",
     "exception": false,
     "start_time": "2023-04-30T16:16:25.520718",
     "status": "completed"
    },
    "tags": []
   },
   "outputs": [],
   "source": [
    "TPC= exam.groupby(exam[\"test preparation course\"]).mean()\n",
    "Tpc=TPC.index\n",
    "math_grpd_TPC = TPC[\"math score\"].values\n",
    "read_grpd_TPC = TPC[\"reading score\"].values\n",
    "write_grpd_TPC = TPC[\"writing score\"].values\n",
    "total_grpd_TPC = TPC[\"Total score\"].values\n",
    "myexplode = [0.05,0]"
   ]
  },
  {
   "cell_type": "code",
   "execution_count": 21,
   "id": "b92fa109",
   "metadata": {
    "execution": {
     "iopub.execute_input": "2023-04-30T16:16:25.580144Z",
     "iopub.status.busy": "2023-04-30T16:16:25.579413Z",
     "iopub.status.idle": "2023-04-30T16:16:26.188351Z",
     "shell.execute_reply": "2023-04-30T16:16:26.187156Z"
    },
    "papermill": {
     "duration": 0.627719,
     "end_time": "2023-04-30T16:16:26.190705",
     "exception": false,
     "start_time": "2023-04-30T16:16:25.562986",
     "status": "completed"
    },
    "tags": []
   },
   "outputs": [
    {
     "name": "stdout",
     "output_type": "stream",
     "text": [
      "\n",
      "+++++++++++++++++++++++++++++++++++++++++++++++++++++++++++++++++++++++++++++++++++++++++++++++++++++++++++++++\n",
      "IT IS OBSERVED THAT THOSE THAT  PARTAKE IN THE TEST PREPARATION COURSE PERFORMED BETTER THAN THOSE THAT DID NOT\n",
      "+++++++++++++++++++++++++++++++++++++++++++++++++++++++++++++++++++++++++++++++++++++++++++++++++++++++++++++++\n"
     ]
    },
    {
     "data": {
      "image/png": "[encoded data removed]",
      "text/plain": [
       "<Figure size 960x1200 with 4 Axes>"
      ]
     },
     "metadata": {},
     "output_type": "display_data"
    }
   ],
   "source": [
    "#TPC AND MATHS SCORES\n",
    "fig5,ax5=plt.subplots(2,2,figsize=(12, 15), dpi=80)\n",
    "ax5[0,0].bar(Tpc,math_grpd_TPC)\n",
    "ax5[0,0].tick_params(axis=\"x\",rotation =90)\n",
    "ax5[0,0].set_ylabel(\"MATHS SCORE\")\n",
    "ax5[0,0].set_xlabel(\"TPC\")\n",
    "ax5[0,0].set_title(\"TPC AND MATHS SCORES\")\n",
    "\n",
    "#TPC AND READING SCORES\n",
    "ax5[0,1].bar(Tpc,math_grpd_TPC,color=\"c\")\n",
    "ax5[0,1].tick_params(axis=\"x\",rotation =90)\n",
    "ax5[0,1].set_ylabel(\"READING SCORE\")\n",
    "ax5[0,1].set_xlabel(\"TPC\")\n",
    "ax5[0,1].set_title(\"TPC AND READING SCORES\")\n",
    "\n",
    "#TPC AND WRITING SCORES\n",
    "ax5[1,0].bar(Tpc,write_grpd_TPC,color=\"#A020F0\")\n",
    "ax5[1,0].tick_params(axis=\"x\",rotation =90)\n",
    "ax5[1,0].set_ylabel(\"WRITING SCORE\")\n",
    "ax5[1,0].set_xlabel(\"TPC\")\n",
    "ax5[1,0].set_title(\"TPC AND WRITING SCORES\")\n",
    "\n",
    "\n",
    "ax5[1,1].bar(Tpc,total_grpd_TPC,color=\"#00FF00\")\n",
    "ax5[1,1].tick_params(axis=\"x\",rotation =90)\n",
    "ax5[1,1].set_ylabel(\"TOTAL SCORE\")\n",
    "ax5[1,1].set_xlabel(\"TPC\")\n",
    "ax5[1,1].set_title(\"TPC AND TOTAL SCORES\")\n",
    "\n",
    "\n",
    "\n",
    "\n",
    "\n",
    "\n",
    "fig5.tight_layout() \n",
    "fig5.show()\n",
    "print(\"\")\n",
    "print(\"+++++++++++++++++++++++++++++++++++++++++++++++++++++++++++++++++++++++++++++++++++++++++++++++++++++++++++++++\")\n",
    "print(\"IT IS OBSERVED THAT THOSE THAT  PARTAKE IN THE TEST PREPARATION COURSE PERFORMED BETTER THAN THOSE THAT DID NOT\")\n",
    "print(\"+++++++++++++++++++++++++++++++++++++++++++++++++++++++++++++++++++++++++++++++++++++++++++++++++++++++++++++++\")"
   ]
  },
  {
   "cell_type": "markdown",
   "id": "564460bc",
   "metadata": {
    "papermill": {
     "duration": 0.01555,
     "end_time": "2023-04-30T16:16:26.223207",
     "exception": false,
     "start_time": "2023-04-30T16:16:26.207657",
     "status": "completed"
    },
    "tags": []
   },
   "source": [
    "RELATIONSHIPS BETWEEN THE TOTAL VALUES IN EACH CATEGORY"
   ]
  },
  {
   "cell_type": "code",
   "execution_count": 22,
   "id": "d24aef3a",
   "metadata": {
    "execution": {
     "iopub.execute_input": "2023-04-30T16:16:26.256677Z",
     "iopub.status.busy": "2023-04-30T16:16:26.256253Z",
     "iopub.status.idle": "2023-04-30T16:16:26.261786Z",
     "shell.execute_reply": "2023-04-30T16:16:26.260687Z"
    },
    "papermill": {
     "duration": 0.02495,
     "end_time": "2023-04-30T16:16:26.264118",
     "exception": false,
     "start_time": "2023-04-30T16:16:26.239168",
     "status": "completed"
    },
    "tags": []
   },
   "outputs": [],
   "source": [
    "Total_1=total_grpd_race \n",
    "Total_2 = total_grpd\n",
    "Total_3= total_grpd_TPC \n",
    "Total_4= total_grpd_lunch \n",
    "Total_5= total_grpd_ple\n"
   ]
  },
  {
   "cell_type": "code",
   "execution_count": null,
   "id": "b905ba81",
   "metadata": {
    "papermill": {
     "duration": 0.015313,
     "end_time": "2023-04-30T16:16:26.295713",
     "exception": false,
     "start_time": "2023-04-30T16:16:26.280400",
     "status": "completed"
    },
    "tags": []
   },
   "outputs": [],
   "source": []
  },
  {
   "cell_type": "code",
   "execution_count": null,
   "id": "a0794473",
   "metadata": {
    "papermill": {
     "duration": 0.014925,
     "end_time": "2023-04-30T16:16:26.325686",
     "exception": false,
     "start_time": "2023-04-30T16:16:26.310761",
     "status": "completed"
    },
    "tags": []
   },
   "outputs": [],
   "source": []
  },
  {
   "cell_type": "code",
   "execution_count": null,
   "id": "77e0fff9",
   "metadata": {
    "execution": {
     "iopub.status.busy": "2023-04-30T16:15:26.199196Z",
     "iopub.status.idle": "2023-04-30T16:15:26.199739Z",
     "shell.execute_reply": "2023-04-30T16:15:26.199519Z",
     "shell.execute_reply.started": "2023-04-30T16:15:26.199490Z"
    },
    "papermill": {
     "duration": 0.015348,
     "end_time": "2023-04-30T16:16:26.356311",
     "exception": false,
     "start_time": "2023-04-30T16:16:26.340963",
     "status": "completed"
    },
    "tags": []
   },
   "outputs": [],
   "source": []
  },
  {
   "cell_type": "code",
   "execution_count": null,
   "id": "e00dc918",
   "metadata": {
    "papermill": {
     "duration": 0.014497,
     "end_time": "2023-04-30T16:16:26.386449",
     "exception": false,
     "start_time": "2023-04-30T16:16:26.371952",
     "status": "completed"
    },
    "tags": []
   },
   "outputs": [],
   "source": []
  },
  {
   "cell_type": "code",
   "execution_count": null,
   "id": "13ddbbc2",
   "metadata": {
    "papermill": {
     "duration": 0.014689,
     "end_time": "2023-04-30T16:16:26.416134",
     "exception": false,
     "start_time": "2023-04-30T16:16:26.401445",
     "status": "completed"
    },
    "tags": []
   },
   "outputs": [],
   "source": []
  },
  {
   "cell_type": "code",
   "execution_count": null,
   "id": "7ffebd36",
   "metadata": {
    "papermill": {
     "duration": 0.014959,
     "end_time": "2023-04-30T16:16:26.446418",
     "exception": false,
     "start_time": "2023-04-30T16:16:26.431459",
     "status": "completed"
    },
    "tags": []
   },
   "outputs": [],
   "source": []
  },
  {
   "cell_type": "code",
   "execution_count": null,
   "id": "df64ffce",
   "metadata": {
    "papermill": {
     "duration": 0.0149,
     "end_time": "2023-04-30T16:16:26.476541",
     "exception": false,
     "start_time": "2023-04-30T16:16:26.461641",
     "status": "completed"
    },
    "tags": []
   },
   "outputs": [],
   "source": []
  },
  {
   "cell_type": "code",
   "execution_count": null,
   "id": "e613b2e6",
   "metadata": {
    "papermill": {
     "duration": 0.014937,
     "end_time": "2023-04-30T16:16:26.506621",
     "exception": false,
     "start_time": "2023-04-30T16:16:26.491684",
     "status": "completed"
    },
    "tags": []
   },
   "outputs": [],
   "source": []
  },
  {
   "cell_type": "code",
   "execution_count": null,
   "id": "41a61f2f",
   "metadata": {
    "papermill": {
     "duration": 0.015576,
     "end_time": "2023-04-30T16:16:26.537123",
     "exception": false,
     "start_time": "2023-04-30T16:16:26.521547",
     "status": "completed"
    },
    "tags": []
   },
   "outputs": [],
   "source": []
  },
  {
   "cell_type": "code",
   "execution_count": null,
   "id": "dc9c18e8",
   "metadata": {
    "papermill": {
     "duration": 0.017632,
     "end_time": "2023-04-30T16:16:26.573673",
     "exception": false,
     "start_time": "2023-04-30T16:16:26.556041",
     "status": "completed"
    },
    "tags": []
   },
   "outputs": [],
   "source": []
  },
  {
   "cell_type": "code",
   "execution_count": null,
   "id": "748af0a3",
   "metadata": {
    "papermill": {
     "duration": 0.015104,
     "end_time": "2023-04-30T16:16:26.604520",
     "exception": false,
     "start_time": "2023-04-30T16:16:26.589416",
     "status": "completed"
    },
    "tags": []
   },
   "outputs": [],
   "source": []
  },
  {
   "cell_type": "code",
   "execution_count": null,
   "id": "45526b4a",
   "metadata": {
    "papermill": {
     "duration": 0.01466,
     "end_time": "2023-04-30T16:16:26.634530",
     "exception": false,
     "start_time": "2023-04-30T16:16:26.619870",
     "status": "completed"
    },
    "tags": []
   },
   "outputs": [],
   "source": []
  },
  {
   "cell_type": "code",
   "execution_count": null,
   "id": "330abde7",
   "metadata": {
    "papermill": {
     "duration": 0.015065,
     "end_time": "2023-04-30T16:16:26.664674",
     "exception": false,
     "start_time": "2023-04-30T16:16:26.649609",
     "status": "completed"
    },
    "tags": []
   },
   "outputs": [],
   "source": []
  }
 ],
 "metadata": {
  "kernelspec": {
   "display_name": "Python 3",
   "language": "python",
   "name": "python3"
  },
  "language_info": {
   "codemirror_mode": {
    "name": "ipython",
    "version": 3
   },
   "file_extension": ".py",
   "mimetype": "text/x-python",
   "name": "python",
   "nbconvert_exporter": "python",
   "pygments_lexer": "ipython3",
   "version": "3.7.12"
  },
  "papermill": {
   "default_parameters": {},
   "duration": 15.844095,
   "end_time": "2023-04-30T16:16:27.403836",
   "environment_variables": {},
   "exception": null,
   "input_path": "__notebook__.ipynb",
   "output_path": "__notebook__.ipynb",
   "parameters": {},
   "start_time": "2023-04-30T16:16:11.559741",
   "version": "2.4.0"
  }
 },
 "nbformat": 4,
 "nbformat_minor": 5
}
